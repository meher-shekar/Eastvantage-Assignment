{
 "cells": [
  {
   "cell_type": "markdown",
   "metadata": {},
   "source": [
    "**Imports**"
   ]
  },
  {
   "cell_type": "code",
   "execution_count": 1,
   "metadata": {},
   "outputs": [],
   "source": [
    "import csv\n",
    "import sqlite3\n",
    "\n",
    "import pandas as pd\n"
   ]
  },
  {
   "cell_type": "markdown",
   "metadata": {},
   "source": [
    "**SQLite3 database Connection**"
   ]
  },
  {
   "cell_type": "code",
   "execution_count": 2,
   "metadata": {},
   "outputs": [],
   "source": [
    "connection = sqlite3.connect(\"./S30 ETL Assignment.db\")\n",
    "cursor = connection.cursor()"
   ]
  },
  {
   "cell_type": "markdown",
   "metadata": {},
   "source": [
    "**2. extracting the total quantities of each item bought per customer aged 18-35.**\n",
    " - *For each customer, get the sum of each item.*\n",
    " - *Items with no purchase (total quantity=0) should be omitted from the final list*\n",
    " - *No decimal points allowed (The company doesn’t sell half of an item)*\n",
    "### SQL Solution"
   ]
  },
  {
   "cell_type": "code",
   "execution_count": 3,
   "metadata": {},
   "outputs": [],
   "source": [
    "cursor.execute(\"\"\"\n",
    "SELECT\n",
    "    s.customer_id Customer,\n",
    "    c.age Age,\n",
    "    i.item_name Item,\n",
    "    SUM(o.quantity) Quantity\n",
    "FROM\n",
    "    sales s\n",
    "    LEFT JOIN customers c ON s.customer_id = c.customer_id\n",
    "    LEFT JOIN orders o ON s.sales_id = o.sales_id\n",
    "    LEFT JOIN items i ON o.item_id = i.item_id\n",
    "WHERE\n",
    "    c.age BETWEEN 18 AND 35\n",
    "    AND o.quantity IS NOT NULL\n",
    "GROUP BY\n",
    "    c.customer_id,\n",
    "    i.item_name\n",
    "HAVING\n",
    "    SUM(o.quantity) > 0\n",
    "ORDER BY\n",
    "    c.customer_id,\n",
    "    i.item_name,\n",
    "    c.age\n",
    "\"\"\")\n",
    "sql_result = cursor.fetchall()"
   ]
  },
  {
   "cell_type": "markdown",
   "metadata": {},
   "source": [
    "### Pandas Solution"
   ]
  },
  {
   "cell_type": "markdown",
   "metadata": {},
   "source": [
    "**Creating DataFrames**"
   ]
  },
  {
   "cell_type": "code",
   "execution_count": 4,
   "metadata": {},
   "outputs": [],
   "source": [
    "sales_df = pd.read_sql_query(\"SELECT * FROM sales\", connection)\n",
    "orders_df = pd.read_sql_query(\"SELECT * FROM orders\", connection)\n",
    "items_df = pd.read_sql_query(\"SELECT * FROM items\", connection)\n",
    "customers_df = pd.read_sql_query(\"SELECT * FROM customers\", connection)"
   ]
  },
  {
   "cell_type": "markdown",
   "metadata": {},
   "source": [
    "**Combining the data**"
   ]
  },
  {
   "cell_type": "code",
   "execution_count": 5,
   "metadata": {},
   "outputs": [],
   "source": [
    "combined_df = (customers_df.merge(sales_df, on=\"customer_id\").merge(\n",
    "    orders_df, on=\"sales_id\").merge(items_df, on=\"item_id\"))"
   ]
  },
  {
   "cell_type": "markdown",
   "metadata": {},
   "source": [
    "**Filtering combined_df to fetch customer age between 18 & 35 AND Quantity without NULL values**"
   ]
  },
  {
   "cell_type": "code",
   "execution_count": 6,
   "metadata": {},
   "outputs": [],
   "source": [
    "filtered_df = (combined_df[(combined_df[\"age\"].between(18, 35))\n",
    "                           & (combined_df[\"quantity\"].notna())])"
   ]
  },
  {
   "cell_type": "markdown",
   "metadata": {},
   "source": [
    "**Calculating the Quantity**"
   ]
  },
  {
   "cell_type": "code",
   "execution_count": 7,
   "metadata": {},
   "outputs": [],
   "source": [
    "final_df = filtered_df.groupby([\"customer_id\", \"age\", \"item_name\"],\n",
    "                               as_index=False)[\"quantity\"].sum()\n",
    "final_df = final_df[final_df[\"quantity\"] > 0]\n",
    "final_df[\"quantity\"] = final_df[\"quantity\"].astype(int)\n",
    "final_df.rename(columns={\n",
    "    \"customer_id\": \"Customer\",\n",
    "    \"age\": \"Age\",\n",
    "    \"item_name\": \"Item\",\n",
    "    \"quantity\": \"Quantity\"\n",
    "},\n",
    "                inplace=True)"
   ]
  },
  {
   "cell_type": "markdown",
   "metadata": {},
   "source": [
    "**Store the SQL result in a .csv file**"
   ]
  },
  {
   "cell_type": "code",
   "execution_count": 8,
   "metadata": {},
   "outputs": [],
   "source": [
    "with open(\"./results/sql_output.csv\", \"w\", newline='') as file:\n",
    "    writer = csv.writer(file, delimiter=';')\n",
    "    writer.writerow([\"Customer\", \"Age\", \"Item\", \"Quantity\"])  # Header\n",
    "    for row in sql_result:\n",
    "        writer.writerow(row)"
   ]
  },
  {
   "cell_type": "markdown",
   "metadata": {},
   "source": [
    "**Store the Pandas result in a .csv file**"
   ]
  },
  {
   "cell_type": "code",
   "execution_count": 9,
   "metadata": {},
   "outputs": [],
   "source": [
    "final_df.to_csv(\"./results/pandas_output.csv\", sep=\";\", index=False)"
   ]
  },
  {
   "cell_type": "markdown",
   "metadata": {},
   "source": [
    "**Closing the database connection**"
   ]
  },
  {
   "cell_type": "code",
   "execution_count": 10,
   "metadata": {},
   "outputs": [],
   "source": [
    "connection.close()"
   ]
  }
 ],
 "metadata": {
  "kernelspec": {
   "display_name": "venv",
   "language": "python",
   "name": "python3"
  },
  "language_info": {
   "codemirror_mode": {
    "name": "ipython",
    "version": 3
   },
   "file_extension": ".py",
   "mimetype": "text/x-python",
   "name": "python",
   "nbconvert_exporter": "python",
   "pygments_lexer": "ipython3",
   "version": "3.11.7"
  }
 },
 "nbformat": 4,
 "nbformat_minor": 2
}
